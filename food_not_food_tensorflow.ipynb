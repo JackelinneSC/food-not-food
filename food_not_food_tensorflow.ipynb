{
  "nbformat": 4,
  "nbformat_minor": 0,
  "metadata": {
    "colab": {
      "name": "food-not-food tensorflow.ipynb",
      "provenance": [],
      "mount_file_id": "1sXNY22JdSa6SsV_4ul4SeBoNfW1kPzYQ",
      "authorship_tag": "ABX9TyP5xoASEeQN1vKZixpRVSYF",
      "include_colab_link": true
    },
    "kernelspec": {
      "name": "python3",
      "display_name": "Python 3"
    },
    "language_info": {
      "name": "python"
    }
  },
  "cells": [
    {
      "cell_type": "markdown",
      "metadata": {
        "id": "view-in-github",
        "colab_type": "text"
      },
      "source": [
        "<a href=\"https://colab.research.google.com/github/JackelinneSC/food-not-food/blob/main/food_not_food_tensorflow.ipynb\" target=\"_parent\"><img src=\"https://colab.research.google.com/assets/colab-badge.svg\" alt=\"Open In Colab\"/></a>"
      ]
    },
    {
      "cell_type": "code",
      "execution_count": null,
      "metadata": {
        "id": "PWDE6E-eSjym"
      },
      "outputs": [],
      "source": [
        ""
      ]
    },
    {
      "cell_type": "code",
      "source": [
        "from google.colab import drive\n",
        "drive.mount('/content/drive')"
      ],
      "metadata": {
        "id": "cSJaUeVOSlW4"
      },
      "execution_count": null,
      "outputs": []
    }
  ]
}